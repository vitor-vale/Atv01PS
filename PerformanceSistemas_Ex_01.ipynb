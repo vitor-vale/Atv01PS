{
  "nbformat": 4,
  "nbformat_minor": 0,
  "metadata": {
    "colab": {
      "provenance": [],
      "authorship_tag": "ABX9TyOcEcGZxEWlydG9U2FXawhE",
      "include_colab_link": true
    },
    "kernelspec": {
      "name": "python3",
      "display_name": "Python 3"
    },
    "language_info": {
      "name": "python"
    }
  },
  "cells": [
    {
      "cell_type": "markdown",
      "metadata": {
        "id": "view-in-github",
        "colab_type": "text"
      },
      "source": [
        "<a href=\"https://colab.research.google.com/github/vitor-vale/Atv01PS/blob/main/PerformanceSistemas_Ex_01.ipynb\" target=\"_parent\"><img src=\"https://colab.research.google.com/assets/colab-badge.svg\" alt=\"Open In Colab\"/></a>"
      ]
    },
    {
      "cell_type": "code",
      "execution_count": null,
      "metadata": {
        "colab": {
          "base_uri": "https://localhost:8080/"
        },
        "id": "5qgv3oBTnKS6",
        "outputId": "138a6755-4407-4132-84da-d6976bda7bb2"
      },
      "outputs": [
        {
          "output_type": "stream",
          "name": "stdout",
          "text": [
            "ok\n"
          ]
        }
      ],
      "source": [
        "import random\n",
        "import string\n",
        "import time\n",
        "import tracemalloc\n",
        "from decimal import Decimal, getcontext\n",
        "print('ok')"
      ]
    },
    {
      "cell_type": "code",
      "source": [
        "memory_before = tracemalloc.start()\n",
        "\n",
        "# Começamos a medir o tempo de execução antes de criar o array\n",
        "start_time = time.time()\n",
        "\n",
        "array = []\n",
        "for i in range(1000):\n",
        "    array.append(random.choice(string.ascii_letters))\n",
        "\n",
        "# Terminamos a medição do tempo de execução após criar o array\n",
        "end_time = time.time()\n",
        "end_time = end_time * 1_000_000_000\n",
        "\n",
        "# Terminamos de monitorar o uso de memória após criar o array\n",
        "utilMemory = tracemalloc.get_traced_memory()\n",
        "memory_after = tracemalloc.stop()\n",
        "\n",
        "# Imprimimos o tempo de execução e o uso de memória\n",
        "print(\"Tempo de execução: \", end_time, \"nanosegundos\")\n",
        "print(\"Uso de memória:\", utilMemory,\" KB\")"
      ],
      "metadata": {
        "colab": {
          "base_uri": "https://localhost:8080/"
        },
        "id": "EoGkTgHtnz5l",
        "outputId": "93648f8c-3a4c-4ce6-fbde-1089bbeef40c"
      },
      "execution_count": null,
      "outputs": [
        {
          "output_type": "stream",
          "name": "stdout",
          "text": [
            "Tempo de execução:  1.6784112953822308e+18 nanosegundos\n",
            "Uso de memória: (9757, 20311)  KB\n"
          ]
        }
      ]
    },
    {
      "cell_type": "code",
      "source": [
        "memory_before = tracemalloc.start()\n",
        "\n",
        "# Começamos a medir o tempo de execução antes de criar o array\n",
        "start_time = time.time()\n",
        "\n",
        "array = []\n",
        "for i in range(1000):\n",
        "    array.append(random.choice(string.ascii_letters))\n",
        "\n",
        "sorted(array)\n",
        "\n",
        "# Terminamos a medição do tempo de execução após criar o array\n",
        "end_time = time.time()\n",
        "end_time = end_time * 1_000_000_000\n",
        "\n",
        "# Terminamos de monitorar o uso de memória após criar o array\n",
        "utilMemory = tracemalloc.get_traced_memory()\n",
        "memory_after = tracemalloc.stop()\n",
        "\n",
        "# Imprimimos o tempo de execução e o uso de memória\n",
        "print(\"Tempo de execução: \", end_time, \"nanosegundos\")\n",
        "print(\"Uso de memória:\", utilMemory,\" KB\")"
      ],
      "metadata": {
        "id": "uehdNjN8CCOj",
        "colab": {
          "base_uri": "https://localhost:8080/"
        },
        "outputId": "469c3bc1-3241-423e-fd52-9648522579f0"
      },
      "execution_count": null,
      "outputs": [
        {
          "output_type": "stream",
          "name": "stdout",
          "text": [
            "Tempo de execução:  1.678411295403591e+18 nanosegundos\n",
            "Uso de memória: (9781, 21709)  KB\n"
          ]
        }
      ]
    },
    {
      "cell_type": "code",
      "source": [
        "memory_before = tracemalloc.start()\n",
        "\n",
        "# Começamos a medir o tempo de execução antes de criar o array\n",
        "start_time = time.time()\n",
        "\n",
        "array = []\n",
        "for i in range(1000):\n",
        "    array.append(random.choice(string.ascii_letters))\n",
        "\n",
        "print(array)\n",
        "\n",
        "# Terminamos a medição do tempo de execução após criar o array\n",
        "end_time = time.time()\n",
        "end_time = end_time * 1_000_000_000\n",
        "\n",
        "# Terminamos de monitorar o uso de memória após criar o array\n",
        "utilMemory = tracemalloc.get_traced_memory()\n",
        "memory_after = tracemalloc.stop()\n",
        "\n",
        "# Imprimimos o tempo de execução e o uso de memória\n",
        "print(\"Tempo de execução: \", end_time, \"nanosegundos\")\n",
        "print(\"Uso de memória:\", utilMemory,\" KB\")"
      ],
      "metadata": {
        "colab": {
          "base_uri": "https://localhost:8080/"
        },
        "id": "kD6tiL0NErAL",
        "outputId": "496893a0-a072-46ed-a897-cbd7739ab837"
      },
      "execution_count": null,
      "outputs": [
        {
          "output_type": "stream",
          "name": "stdout",
          "text": [
            "['W', 'A', 'u', 'V', 'C', 'O', 'p', 'L', 'w', 'V', 'Z', 'X', 'D', 'Q', 'K', 'r', 'D', 'd', 'j', 'B', 'x', 'z', 'u', 'a', 'J', 'K', 'Q', 'l', 'j', 'v', 'n', 'k', 's', 'n', 'T', 'x', 'S', 'o', 'H', 'A', 'g', 'S', 'c', 'f', 's', 'x', 'r', 'r', 't', 'M', 'J', 'V', 'i', 'd', 'd', 'i', 'm', 'm', 'g', 'X', 'D', 'x', 'L', 'T', 'V', 'Y', 'Q', 't', 'Q', 'g', 'S', 'u', 'z', 'M', 'F', 'R', 'K', 'g', 'e', 'H', 'e', 'i', 'h', 'z', 'o', 'j', 'E', 'h', 'p', 'f', 'e', 'n', 'C', 'L', 'D', 'l', 'k', 'K', 'D', 'J', 'Y', 's', 'V', 'J', 'V', 'L', 'I', 'K', 'D', 'M', 'n', 'T', 'o', 'R', 'k', 'L', 'm', 'y', 'c', 'P', 'R', 'X', 'i', 'l', 'u', 'S', 'l', 'I', 'L', 'J', 'c', 'g', 'r', 'C', 't', 'M', 'f', 'K', 'E', 'U', 'I', 't', 'z', 'H', 'B', 'A', 'q', 'z', 'v', 'c', 'd', 'p', 'G', 'h', 'W', 'C', 'X', 'v', 'D', 'b', 'C', 'i', 'h', 'S', 'N', 'Y', 'a', 'i', 'Y', 'w', 'O', 'W', 'X', 'Z', 't', 'O', 'i', 'E', 'T', 'y', 'B', 'q', 'Z', 'n', 'g', 'P', 'h', 'r', 'Z', 'l', 'K', 'H', 'J', 'v', 'Z', 'V', 'N', 'm', 'm', 'T', 'e', 'p', 'M', 'n', 'D', 'N', 'G', 'q', 'k', 'r', 'z', 'M', 'E', 'D', 'S', 'X', 'D', 'V', 'T', 'A', 'B', 'Q', 'H', 'B', 'f', 'G', 'R', 'o', 'w', 'b', 'A', 'v', 'r', 'o', 'Q', 'g', 'Y', 'J', 'n', 'O', 'p', 'P', 'k', 'd', 'G', 'l', 'd', 'C', 'N', 'D', 'c', 'a', 'o', 'd', 'G', 'C', 'k', 'M', 'n', 'V', 'T', 'b', 'W', 'G', 't', 'a', 'H', 'E', 'G', 'W', 'b', 'k', 'w', 'C', 'w', 'h', 'G', 'i', 'A', 'D', 'E', 'j', 'w', 'o', 'g', 'n', 'j', 'g', 'Z', 'w', 't', 'G', 'h', 'X', 'T', 'j', 'l', 'g', 'w', 'v', 'v', 'r', 'N', 'g', 'G', 'Z', 'h', 'g', 'T', 'Q', 'Y', 'o', 'Y', 'Y', 'g', 'f', 'g', 'O', 'X', 'n', 'a', 'Y', 'u', 'L', 'x', 'z', 'U', 'o', 'K', 'l', 'X', 'h', 'p', 'q', 'U', 'h', 'U', 'J', 'V', 'd', 'y', 'W', 'k', 'r', 'c', 'a', 'r', 'm', 'y', 'C', 'D', 'l', 'v', 'N', 'W', 'a', 'X', 'L', 'L', 'W', 'K', 'o', 'I', 'M', 'A', 'J', 'u', 'F', 'D', 'v', 'Z', 'e', 'm', 'w', 'B', 'p', 'A', 'f', 'j', 'I', 'p', 'y', 'i', 'h', 'h', 'v', 'x', 'P', 'B', 'T', 'n', 'W', 't', 'F', 'B', 't', 'l', 'g', 'M', 'U', 'Y', 'Y', 'N', 'l', 'I', 'N', 'B', 'w', 'Z', 'e', 'L', 'v', 'b', 'm', 'J', 'R', 'a', 'I', 'g', 'Y', 'N', 'k', 'B', 'h', 'U', 'r', 'F', 'c', 'W', 'q', 'v', 'O', 'c', 'F', 'G', 'i', 's', 'Q', 'H', 'L', 's', 'i', 'P', 'A', 'A', 'N', 'W', 'o', 'Q', 'C', 'R', 'n', 'U', 'z', 'U', 'b', 'R', 'K', 'w', 'a', 'o', 'h', 'U', 'p', 'v', 'g', 'J', 'p', 'x', 'U', 'R', 'Q', 'n', 'f', 'F', 'A', 's', 'G', 'y', 'W', 'h', 'm', 'H', 'k', 'o', 'T', 'Y', 'p', 'k', 'v', 'd', 'R', 'G', 'U', 'p', 'J', 'N', 'x', 'P', 'X', 's', 'X', 'C', 's', 'T', 'J', 'J', 'C', 'X', 's', 'K', 'h', 'b', 'L', 'S', 'q', 'p', 'P', 'f', 'o', 'x', 'j', 'W', 'j', 'Z', 's', 'c', 'a', 'u', 'f', 'P', 'Q', 'C', 'R', 'J', 'F', 'I', 'k', 'T', 'o', 'K', 'c', 't', 'g', 'o', 'b', 'x', 'g', 'g', 'V', 'f', 'w', 'k', 'D', 'M', 'z', 'z', 'q', 'F', 'A', 'W', 'G', 'Z', 'K', 'K', 'I', 'U', 'r', 'b', 'F', 'T', 'r', 'e', 'K', 'h', 'l', 'm', 'G', 'q', 'f', 'U', 'B', 'i', 'x', 'z', 'v', 'B', 'g', 'F', 'h', 'u', 'n', 'G', 'X', 'd', 'h', 'D', 'Q', 'd', 'p', 'x', 'u', 'Q', 'F', 'A', 'h', 'o', 'k', 'i', 'j', 'R', 'u', 'R', 'u', 'a', 'M', 'K', 'u', 'u', 'r', 'i', 'J', 'x', 'r', 'i', 'O', 'M', 'z', 'S', 'A', 'r', 'h', 'V', 'w', 'B', 'A', 'b', 'Q', 'O', 'D', 'P', 'V', 'C', 'G', 'q', 'b', 't', 's', 'U', 'W', 'U', 'h', 'B', 'P', 't', 'S', 'q', 'u', 'K', 'K', 'q', 'Q', 'D', 'z', 'a', 'B', 'd', 'K', 'N', 'd', 'h', 'z', 'y', 'T', 'W', 'W', 's', 'P', 't', 'z', 'C', 'g', 'J', 'C', 'c', 'C', 'a', 'u', 'B', 'z', 'E', 'N', 'i', 'n', 'z', 't', 'A', 'F', 'a', 'o', 'b', 'f', 'b', 'v', 'g', 'a', 'W', 'J', 'i', 'D', 'M', 'O', 'j', 'y', 'Z', 'x', 't', 'S', 'i', 'E', 'o', 'q', 'f', 'O', 'q', 'U', 'v', 'L', 'e', 'E', 'r', 'X', 'A', 'C', 'j', 'V', 'v', 'Z', 'd', 'n', 'K', 'W', 'e', 'r', 'y', 'S', 'q', 'D', 'Y', 'B', 'd', 'L', 'A', 'V', 'S', 'K', 'q', 'V', 'W', 'M', 'A', 's', 'r', 'm', 'M', 'w', 'f', 'C', 'G', 'n', 'S', 'b', 'p', 'W', 'i', 'K', 'B', 'N', 'J', 'D', 'm', 'P', 'l', 'B', 'P', 'r', 'i', 'A', 'p', 'w', 'H', 'P', 'C', 'M', 'R', 'M', 'L', 'C', 'E', 'o', 'r', 'l', 't', 'S', 'n', 'V', 'X', 'z', 'R', 'T', 'r', 'j', 'c', 's', 'a', 'd', 'n', 'q', 'A', 'U', 'l', 'Q', 'N', 'y', 'g', 'P', 'k', 'r', 'C', 'O', 'H', 'H', 'm', 'Z', 'r', 'J', 'B', 'L', 'H', 'V', 'd', 'U', 'S', 'f', 'e', 's', 'H', 'f', 'a', 'B', 'U', 'g', 'F', 'B', 'w', 'U', 'C', 's', 'G', 'Z', 'K', 'V', 'J', 'i', 'v', 'J', 'n', 'O', 'C', 's', 'C', 'k', 't', 'Y', 'X', 'k', 'Q', 'B', 'h', 'h', 'F', 'O', 'R', 'P', 's', 'j', 'E', 'Z', 'z', 'O', 'p', 'H', 'Q', 'q', 'H', 's', 'Z', 'e', 'V', 'C', 'X', 'b', 'H', 't', 'Q', 'Z', 'O', 'v', 'x', 'X', 'o', 'i', 'x', 'S', 'T', 'W', 'K', 'b', 'm', 'g', 'i', 'D', 'g', 'n', 'm', 'n', 'c', 'P', 'l', 'O', 'c', 'u', 'x', 'D', 'U', 'o', 'Q', 'u', 'j', 'n', 'e', 'O', 'F', 'M', 'd', 'B', 'c', 'X', 'D', 'j', 'n', 'a', 'e', 'T', 'K', 'P', 'U', 'l', 'O', 'r', 'B', 'M', 'A', 'j', 'z', 'f', 'x', 'E', 'C', 'E', 'e', 'k', 'x', 's', 'A', 'C', 'N', 'b', 'D', 'k', 'V', 'd', 'T', 'Q', 'g', 'G', 'N', 'j', 'v', 'i', 'D', 'Y', 'Q', 'x', 'r', 'j', 'K', 'U', 'i', 'x']\n",
            "Tempo de execução:  1.6784112954233797e+18 nanosegundos\n",
            "Uso de memória: (15249, 25803)  KB\n"
          ]
        }
      ]
    },
    {
      "cell_type": "code",
      "source": [
        "memory_before = tracemalloc.start()\n",
        "\n",
        "# Começamos a medir o tempo de execução antes de criar o array\n",
        "start_time = time.time()\n",
        "\n",
        "getcontext().prec = 102\n",
        "\n",
        "# Inicializa as variáveis para a fórmula\n",
        "pi = Decimal(0)\n",
        "denominador = Decimal(1)\n",
        "sinal = 1\n",
        "\n",
        "# Calcula o valor de pi\n",
        "for i in range(100000):\n",
        "    pi += sinal * Decimal(1) / denominador\n",
        "    denominador += 2\n",
        "    sinal *= -1\n",
        "\n",
        "# Multiplica o resultado por 4 para obter o valor de pi\n",
        "pi *= 4\n",
        "\n",
        "utilMemory = tracemalloc.get_traced_memory()\n",
        "memory_after = tracemalloc.stop()\n",
        "\n",
        "# Imprimimos o tempo de execução e o uso de memória\n",
        "print(\"Tempo de execução: \", end_time, \"nanosegundos\")\n",
        "print(\"Uso de memória:\", utilMemory,\" KB\")"
      ],
      "metadata": {
        "colab": {
          "base_uri": "https://localhost:8080/"
        },
        "id": "PNa2HaSZGTQ2",
        "outputId": "484bc04b-d823-41a8-d322-f40ff6aab94f"
      },
      "execution_count": null,
      "outputs": [
        {
          "output_type": "stream",
          "name": "stdout",
          "text": [
            "Tempo de execução:  1.6784112954233797e+18 nanosegundos\n",
            "Uso de memória: (8036, 19563)  KB\n"
          ]
        }
      ]
    }
  ]
}